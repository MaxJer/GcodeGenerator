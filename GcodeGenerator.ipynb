{
 "cells": [
  {
   "cell_type": "markdown",
   "id": "c26f833c-f1af-4317-b198-0501a34f29b1",
   "metadata": {},
   "source": [
    "### imports"
   ]
  },
  {
   "cell_type": "code",
   "execution_count": 2,
   "id": "972e1c70-4366-4fce-acfd-6b3912148542",
   "metadata": {},
   "outputs": [],
   "source": [
    "import math\n",
    "import pandas as pd\n",
    "import matplotlib.pyplot as plt"
   ]
  },
  {
   "cell_type": "markdown",
   "id": "b3328dc4-03a2-478e-bf9a-226b1a60d398",
   "metadata": {},
   "source": [
    "### EXTRUSION AREA"
   ]
  },
  {
   "cell_type": "code",
   "execution_count": 60,
   "id": "005f4957-2ee0-43ee-96b9-8cfefddd9b23",
   "metadata": {},
   "outputs": [
    {
     "data": {
      "text/plain": [
       "567450.1730546564"
      ]
     },
     "execution_count": 60,
     "metadata": {},
     "output_type": "execute_result"
    }
   ],
   "source": [
    "d1 = 850\n",
    "r1 = d/2\n",
    "A1 = math.pi*r**2\n",
    "A1"
   ]
  },
  {
   "cell_type": "code",
   "execution_count": 62,
   "id": "d7be9dc6-a2ae-49e2-81ef-61827d3de609",
   "metadata": {},
   "outputs": [
    {
     "data": {
      "text/plain": [
       "785398.1633974483"
      ]
     },
     "execution_count": 62,
     "metadata": {},
     "output_type": "execute_result"
    }
   ],
   "source": [
    "d2 = 1000\n",
    "r2 = d2/2\n",
    "A2 = math.pi*r2**2\n",
    "A2"
   ]
  },
  {
   "cell_type": "code",
   "execution_count": 64,
   "id": "d740ad24-e3c0-4438-ba77-b609d99df432",
   "metadata": {},
   "outputs": [
    {
     "data": {
      "text/plain": [
       "0.7225"
      ]
     },
     "execution_count": 64,
     "metadata": {},
     "output_type": "execute_result"
    }
   ],
   "source": [
    "ratio = A1/A2\n",
    "ratio"
   ]
  },
  {
   "cell_type": "markdown",
   "id": "e47aff2b-aed0-4d52-bd41-4b5de273019b",
   "metadata": {},
   "source": [
    "### PARAMETERS"
   ]
  },
  {
   "cell_type": "code",
   "execution_count": 105,
   "id": "13cf6105-6253-43c3-9b19-923e9e6c71c2",
   "metadata": {},
   "outputs": [],
   "source": [
    "## Set parameters\n",
    "# Speed translates from F?? to mm/s (ie. F90 = 1.5mm/s)\n",
    "\n",
    "line_spacing    = 1.6\n",
    "line_num        = 6 # if select 7 lines actually 8 lines\n",
    "layer_height    = 0.8\n",
    "layer_num       = 4\n",
    "starting_pointx = 20\n",
    "starting_pointy = 200\n",
    "scaffold_size   = line_num * line_spacing\n",
    "mixingA         = 0.8\n",
    "mixingB         = 0.2\n",
    "ehigh           = (((1.15/10) * scaffold_size) * 0.7225) + (((overlap/5) * 1.15) * 0.7225) #for 18G nozzle, 1.15 is extrusion high for 10mm scaffold\n",
    "elow            = ((ehigh/10) * line_spacing) * 0.7225 #for 18G, 850microns nozzle\n",
    "startcode       = \"T0 \\nM140 S38 \\nM190 S38 \\nM82 ;absolute extrusion mode \\nG1 Z15.0 F6000 ;Move the platform down 15mm \\n;Prime the extruder \\nG92 E0 \\nM83 ;relative extrusion mode\"\n",
    "speed           = 180\n",
    "trans_height    = (layer_num * layer_height) + 3 #defining the z elevation between scaffolds\n",
    "trans_speed     = 3600 #defining print head spead between scaffolds\n",
    "overlap         = 1\n",
    "#endcode         = \"Pulling strand of last layer \\nG0 F3600 X\", xvalues[-1], \"Y\", yvalues[-1], \"\\n;Pulling upwards \\nG0 F3600 X55.335 Y95 Z \", layer_height * layer_num, \"\\nG0 Z-\",(layer_height * layer_num)*1.5 ,\"\\n;ENDCODE \\nM84 \\nM82 ;absolute extrusion mode \\nM104 S0 \\nEnd of Gcode\"\n",
    "\n",
    "# preextrusion\n",
    "preExtrusion    = 1\n",
    "premixingA      = 1\n",
    "premixingB      = 0\n",
    "\n",
    "#multiple scaffolds\n",
    "n_rows          = 2\n",
    "n_columns        = 2\n",
    "distance_scaf   = 35\n"
   ]
  },
  {
   "cell_type": "code",
   "execution_count": 106,
   "id": "682d9da9-e77c-4a14-b2ac-766925559892",
   "metadata": {},
   "outputs": [
    {
     "data": {
      "text/plain": [
       "9.600000000000001"
      ]
     },
     "execution_count": 106,
     "metadata": {},
     "output_type": "execute_result"
    }
   ],
   "source": [
    "scaffold_size"
   ]
  },
  {
   "cell_type": "markdown",
   "id": "88a8ecf9-d3c3-41b6-8f00-b6d99b423eef",
   "metadata": {},
   "source": [
    "### ROW_LIST and COLUMN_LIST"
   ]
  },
  {
   "cell_type": "code",
   "execution_count": 78,
   "id": "fc178285-27d5-4e03-a6ab-70197996d5b4",
   "metadata": {},
   "outputs": [],
   "source": [
    "def col_row_lst(n_columns, n_rows, distance_scaf):\n",
    "    \n",
    "    \n",
    "    global col_lst\n",
    "    col_lst = []\n",
    "\n",
    "    for index in range(0,n_columns):\n",
    "        col_lst.append(index*distance_scaf)\n",
    "\n",
    "    global row_lst\n",
    "    row_lst = []\n",
    "    for index in range(0,n_rows):\n",
    "        row_lst.append(index*(-distance_scaf))\n",
    "        \n",
    "    return row_lst, col_lst"
   ]
  },
  {
   "cell_type": "code",
   "execution_count": 79,
   "id": "e458ad7d-5698-4e2f-a858-111d20904f29",
   "metadata": {},
   "outputs": [
    {
     "data": {
      "text/plain": [
       "([0, -35], [0, 35])"
      ]
     },
     "execution_count": 79,
     "metadata": {},
     "output_type": "execute_result"
    }
   ],
   "source": [
    "col_row_lst(n_columns = n_columns, n_rows = n_rows, distance_scaf = distance_scaf)"
   ]
  },
  {
   "cell_type": "markdown",
   "id": "83a0bbe5-ddb2-4381-a531-4b1cc13b9afd",
   "metadata": {},
   "source": [
    "### LAYER 1"
   ]
  },
  {
   "cell_type": "code",
   "execution_count": 80,
   "id": "9311023d-2c8f-4849-9a57-3d0a428a7090",
   "metadata": {},
   "outputs": [],
   "source": [
    "def layer1coord(starting_pointx, starting_pointy, scaffold_size, ehigh, elow, line_num):\n",
    "    \n",
    "    # xcoordinates\n",
    "    xcoordinates = []\n",
    "    xcoordinate = starting_pointx\n",
    "    for i in list(range(0,line_num)):\n",
    "        xcoordinate += line_spacing\n",
    "        xcoordinates.append(xcoordinate)\n",
    "        \n",
    "    # xValues for layer 1 \n",
    "    global xvalues\n",
    "    xvalues = []\n",
    "    n=0\n",
    "    xvalues.append(starting_pointx)\n",
    "    for i in list(range(0,line_num)):\n",
    "        xvalues.append(xcoordinates[n])\n",
    "        xvalues.append(xcoordinates[n])\n",
    "        n = n+1\n",
    "        \n",
    "    # eValues for layer 1 & 2\n",
    "    evalues = [ehigh,elow]\n",
    "    evalues = evalues * (line_num+1)\n",
    "    evalues = evalues[:-1]\n",
    "    \n",
    "    # yValues for layer 1\n",
    "    global yvalues\n",
    "    yvalues = []\n",
    "    ycoordinates = [(starting_pointy + scaffold_size) + overlap, (starting_pointy + scaffold_size) + overlap, starting_pointy - overlap, starting_pointy - overlap]\n",
    "    ycoordinates = ycoordinates * line_num\n",
    "    n=0\n",
    "    for i in range(0, len(xvalues)):\n",
    "        yvalues.append(ycoordinates[n])\n",
    "        n = n+1\n",
    "    \n",
    "    # dataframe    \n",
    "    global layer1\n",
    "    layer1 = pd.DataFrame()\n",
    "    layer1[\"Xcoordinate\"] = xvalues\n",
    "    layer1[\"Ycoordinate\"] = yvalues\n",
    "    layer1[\"Evalues\"] =  evalues\n",
    "    layer1\n",
    "    \n",
    "    return xcoordinates, evalues, yvalues, xvalues, layer1"
   ]
  },
  {
   "cell_type": "code",
   "execution_count": 81,
   "id": "971fa310-2306-4af4-b81c-229d6e252543",
   "metadata": {},
   "outputs": [
    {
     "data": {
      "text/plain": [
       "([22, 24, 26, 28, 30, 32],\n",
       " [0.99705,\n",
       "  0.144073725,\n",
       "  0.99705,\n",
       "  0.144073725,\n",
       "  0.99705,\n",
       "  0.144073725,\n",
       "  0.99705,\n",
       "  0.144073725,\n",
       "  0.99705,\n",
       "  0.144073725,\n",
       "  0.99705,\n",
       "  0.144073725,\n",
       "  0.99705],\n",
       " [213, 213, 199, 199, 213, 213, 199, 199, 213, 213, 199, 199, 213],\n",
       " [20, 22, 22, 24, 24, 26, 26, 28, 28, 30, 30, 32, 32],\n",
       "     Xcoordinate  Ycoordinate   Evalues\n",
       " 0            20          213  0.997050\n",
       " 1            22          213  0.144074\n",
       " 2            22          199  0.997050\n",
       " 3            24          199  0.144074\n",
       " 4            24          213  0.997050\n",
       " 5            26          213  0.144074\n",
       " 6            26          199  0.997050\n",
       " 7            28          199  0.144074\n",
       " 8            28          213  0.997050\n",
       " 9            30          213  0.144074\n",
       " 10           30          199  0.997050\n",
       " 11           32          199  0.144074\n",
       " 12           32          213  0.997050)"
      ]
     },
     "execution_count": 81,
     "metadata": {},
     "output_type": "execute_result"
    }
   ],
   "source": [
    "layer1coord(starting_pointx= starting_pointx, starting_pointy= starting_pointy, scaffold_size=scaffold_size, line_num=line_num, elow=elow, ehigh=ehigh)"
   ]
  },
  {
   "cell_type": "markdown",
   "id": "40bbb512-8386-45cc-9425-7891814b1710",
   "metadata": {},
   "source": [
    "### LAYER 2 ODD"
   ]
  },
  {
   "cell_type": "code",
   "execution_count": 82,
   "id": "b0df11df-86ff-4a81-99f5-50c815e34b0b",
   "metadata": {},
   "outputs": [],
   "source": [
    "def layer2oddcoord(starting_pointx, starting_pointy, scaffold_size, ehigh, elow, line_num):\n",
    "    \n",
    "    ycoordinatesodd = []\n",
    "    ycoordinateodd = starting_pointy\n",
    "    for i in list(range(0,line_num)):\n",
    "        ycoordinateodd += line_spacing\n",
    "        ycoordinatesodd.append(ycoordinateodd)\n",
    "        \n",
    "    global yvalues2odd   \n",
    "    yvalues2odd = []\n",
    "    n=0\n",
    "    yvalues2odd.append(starting_pointy)\n",
    "    for i in list(range(0,line_num)):\n",
    "        yvalues2odd.append(ycoordinatesodd[n])\n",
    "        yvalues2odd.append(ycoordinatesodd[n])\n",
    "        n = n+1\n",
    "        \n",
    "    # eValues for layer 1 & 2\n",
    "    evalues = [ehigh,elow]\n",
    "    evalues = evalues * (line_num+1)\n",
    "    evalues = evalues[:-1]\n",
    "    \n",
    "    \n",
    "\n",
    "    # xValues for layer 2\n",
    "    global xvalues2odd\n",
    "    xvalues2odd = []\n",
    "    xcoordinates2odd = [starting_pointx, starting_pointx, starting_pointx + scaffold_size, starting_pointx + scaffold_size]\n",
    "    xcoordinates2odd = xcoordinates2odd * line_num\n",
    "    n=0\n",
    "    for i in range(0, len(yvalues2odd)):\n",
    "        xvalues2odd.append(xcoordinates2odd[n])\n",
    "        n = n+1\n",
    "\n",
    "    global layer2odd\n",
    "    layer2odd = pd.DataFrame()\n",
    "    layer2odd[\"Xcoordinate2odd\"] = xvalues2odd\n",
    "    layer2odd[\"Ycoordinate2odd\"] = yvalues2odd\n",
    "    layer2odd[\"Evalues\"] =  evalues  \n",
    "    \n",
    "    return xcoordinates2odd, evalues, yvalues2odd, xvalues2odd, layer2odd"
   ]
  },
  {
   "cell_type": "code",
   "execution_count": 83,
   "id": "d922c10e-1b91-475c-b619-a868df590d4a",
   "metadata": {},
   "outputs": [
    {
     "data": {
      "text/plain": [
       "([20,\n",
       "  20,\n",
       "  32,\n",
       "  32,\n",
       "  20,\n",
       "  20,\n",
       "  32,\n",
       "  32,\n",
       "  20,\n",
       "  20,\n",
       "  32,\n",
       "  32,\n",
       "  20,\n",
       "  20,\n",
       "  32,\n",
       "  32,\n",
       "  20,\n",
       "  20,\n",
       "  32,\n",
       "  32,\n",
       "  20,\n",
       "  20,\n",
       "  32,\n",
       "  32],\n",
       " [0.99705,\n",
       "  0.144073725,\n",
       "  0.99705,\n",
       "  0.144073725,\n",
       "  0.99705,\n",
       "  0.144073725,\n",
       "  0.99705,\n",
       "  0.144073725,\n",
       "  0.99705,\n",
       "  0.144073725,\n",
       "  0.99705,\n",
       "  0.144073725,\n",
       "  0.99705],\n",
       " [200, 202, 202, 204, 204, 206, 206, 208, 208, 210, 210, 212, 212],\n",
       " [20, 20, 32, 32, 20, 20, 32, 32, 20, 20, 32, 32, 20],\n",
       "     Xcoordinate2odd  Ycoordinate2odd   Evalues\n",
       " 0                20              200  0.997050\n",
       " 1                20              202  0.144074\n",
       " 2                32              202  0.997050\n",
       " 3                32              204  0.144074\n",
       " 4                20              204  0.997050\n",
       " 5                20              206  0.144074\n",
       " 6                32              206  0.997050\n",
       " 7                32              208  0.144074\n",
       " 8                20              208  0.997050\n",
       " 9                20              210  0.144074\n",
       " 10               32              210  0.997050\n",
       " 11               32              212  0.144074\n",
       " 12               20              212  0.997050)"
      ]
     },
     "execution_count": 83,
     "metadata": {},
     "output_type": "execute_result"
    }
   ],
   "source": [
    "layer2oddcoord(starting_pointx= starting_pointx, starting_pointy= starting_pointy, scaffold_size=scaffold_size, line_num=line_num, elow=elow, ehigh=ehigh)"
   ]
  },
  {
   "cell_type": "markdown",
   "id": "7123b0ff-83a6-40dc-9bee-8bfee22f6f06",
   "metadata": {},
   "source": [
    "### LAYER2 EVEN"
   ]
  },
  {
   "cell_type": "code",
   "execution_count": 84,
   "id": "502929ec-e374-416e-a75d-c8b90044efdd",
   "metadata": {},
   "outputs": [],
   "source": [
    "def layer2evencoord(starting_pointx, starting_pointy, scaffold_size, ehigh, elow, line_num):\n",
    "    \n",
    "    ycoordinateseven = []\n",
    "    ycoordinateeven = layer1.loc[0,\"Ycoordinate\"]\n",
    "    for i in list(range(0,line_num)):\n",
    "        ycoordinateeven -= line_spacing\n",
    "        ycoordinateseven.append(ycoordinateeven)\n",
    "        \n",
    "    global yvalues2even  \n",
    "    yvalues2even = []\n",
    "    n=0\n",
    "    yvalues2even.append(layer1.loc[0,\"Ycoordinate\"])\n",
    "    for i in list(range(0,line_num)):\n",
    "        yvalues2even.append(ycoordinateseven[n])\n",
    "        yvalues2even.append(ycoordinateseven[n])\n",
    "        n = n+1\n",
    "        \n",
    "    # eValues for layer 1 & 2\n",
    "    evalues = [ehigh,elow]\n",
    "    evalues = evalues * (line_num+1)\n",
    "    evalues = evalues[:-1]\n",
    "    \n",
    "    \n",
    "\n",
    "    # xValues for layer 2\n",
    "    global xvalues2even\n",
    "    xvalues2even = []\n",
    "    xcoordinates2even = [starting_pointx - overlap, starting_pointx - overlap, ((starting_pointx + scaffold_size) + overlap), ((starting_pointx + scaffold_size) + overlap)]\n",
    "    xcoordinates2even = xcoordinates2even * line_num\n",
    "    n=0\n",
    "    for i in range(0, len(yvalues2even)):\n",
    "        xvalues2even.append(xcoordinates2even[n])\n",
    "        n = n+1\n",
    "\n",
    "    global layer2even\n",
    "    layer2even = pd.DataFrame()\n",
    "    layer2even[\"Xcoordinate2even\"] = xvalues2even\n",
    "    yvalues2even  = [x-1 for x in yvalues2even]\n",
    "    layer2even[\"Ycoordinate2even\"] = yvalues2even \n",
    "    layer2even[\"Evalues\"] =  evalues  \n",
    "    \n",
    "    return xcoordinates2even, evalues, yvalues2even, xvalues2even, layer2even"
   ]
  },
  {
   "cell_type": "code",
   "execution_count": 85,
   "id": "170e4549-de78-4656-b1fd-43ac832b1f2d",
   "metadata": {},
   "outputs": [
    {
     "data": {
      "text/plain": [
       "0     211\n",
       "1     209\n",
       "2     209\n",
       "3     207\n",
       "4     207\n",
       "5     205\n",
       "6     205\n",
       "7     203\n",
       "8     203\n",
       "9     201\n",
       "10    201\n",
       "11    199\n",
       "12    199\n",
       "Name: Ycoordinate2even, dtype: int64"
      ]
     },
     "execution_count": 85,
     "metadata": {},
     "output_type": "execute_result"
    }
   ],
   "source": [
    "layer2even[\"Ycoordinate2even\"] = [x-1 for x in yvalues2even]\n",
    "layer2even[\"Ycoordinate2even\"]"
   ]
  },
  {
   "cell_type": "code",
   "execution_count": 86,
   "id": "22cc7b8f-8eee-449e-8882-bb3cbead32c3",
   "metadata": {},
   "outputs": [
    {
     "data": {
      "text/plain": [
       "([19,\n",
       "  19,\n",
       "  33,\n",
       "  33,\n",
       "  19,\n",
       "  19,\n",
       "  33,\n",
       "  33,\n",
       "  19,\n",
       "  19,\n",
       "  33,\n",
       "  33,\n",
       "  19,\n",
       "  19,\n",
       "  33,\n",
       "  33,\n",
       "  19,\n",
       "  19,\n",
       "  33,\n",
       "  33,\n",
       "  19,\n",
       "  19,\n",
       "  33,\n",
       "  33],\n",
       " [0.99705,\n",
       "  0.144073725,\n",
       "  0.99705,\n",
       "  0.144073725,\n",
       "  0.99705,\n",
       "  0.144073725,\n",
       "  0.99705,\n",
       "  0.144073725,\n",
       "  0.99705,\n",
       "  0.144073725,\n",
       "  0.99705,\n",
       "  0.144073725,\n",
       "  0.99705],\n",
       " [212, 210, 210, 208, 208, 206, 206, 204, 204, 202, 202, 200, 200],\n",
       " [19, 19, 33, 33, 19, 19, 33, 33, 19, 19, 33, 33, 19],\n",
       "     Xcoordinate2even  Ycoordinate2even   Evalues\n",
       " 0                 19               212  0.997050\n",
       " 1                 19               210  0.144074\n",
       " 2                 33               210  0.997050\n",
       " 3                 33               208  0.144074\n",
       " 4                 19               208  0.997050\n",
       " 5                 19               206  0.144074\n",
       " 6                 33               206  0.997050\n",
       " 7                 33               204  0.144074\n",
       " 8                 19               204  0.997050\n",
       " 9                 19               202  0.144074\n",
       " 10                33               202  0.997050\n",
       " 11                33               200  0.144074\n",
       " 12                19               200  0.997050)"
      ]
     },
     "execution_count": 86,
     "metadata": {},
     "output_type": "execute_result"
    }
   ],
   "source": [
    "layer2evencoord(starting_pointx= starting_pointx, starting_pointy= starting_pointy, scaffold_size=scaffold_size, line_num=line_num, elow=elow, ehigh=ehigh)"
   ]
  },
  {
   "cell_type": "markdown",
   "id": "0f5f7ef2-d5a1-40c6-b90b-ac2430b8e034",
   "metadata": {},
   "source": [
    "### PREEXTRUDE"
   ]
  },
  {
   "cell_type": "code",
   "execution_count": 87,
   "id": "76f6e2d6-6405-4baa-ac00-908476226127",
   "metadata": {},
   "outputs": [],
   "source": [
    "def preextrude(starting_pointx, line_spacing, yvalues, elow, ehigh):\n",
    "    \n",
    "    # xValues for preextrude\n",
    "    global xprecoordinates\n",
    "    xprecoordinates = []\n",
    "    xprecoordinate = starting_pointx\n",
    "    for i in list(range(0,3)):\n",
    "        xprecoordinate -= line_spacing\n",
    "        xprecoordinates.append(xprecoordinate)\n",
    "    \n",
    "    global xprevalues\n",
    "    xprevalues = []\n",
    "    n=0\n",
    "    xprevalues.append(starting_pointx)\n",
    "    for i in list(range(0,3)):\n",
    "        xprevalues.append(xprecoordinates[n])\n",
    "        xprevalues.append(xprecoordinates[n])\n",
    "        n = n+1\n",
    "        \n",
    "    # eValues for preextrude\n",
    "    evalues = [ehigh,elow]\n",
    "    evalues = evalues * (line_num+1)\n",
    "    evalues = evalues[:-1]\n",
    "    \n",
    "    #preextrusion dataframe\n",
    "    xprevalues.reverse()\n",
    "    global dfpreextrude \n",
    "    dfpreextrude = pd.DataFrame()\n",
    "    dfpreextrude[\"Xprecoordinate\"] = xprevalues\n",
    "    dfpreextrude[\"Yprecoordinate\"] = yvalues[1:len(xprevalues)+1]\n",
    "    dfpreextrude[\"preEvalues\"] =  evalues[0:len(xprevalues)]\n",
    "\n",
    "    return xprecoordinates, xprevalues, dfpreextrude"
   ]
  },
  {
   "cell_type": "code",
   "execution_count": 88,
   "id": "567b923c-997a-4cac-bc4c-c1123fcba5e4",
   "metadata": {},
   "outputs": [
    {
     "data": {
      "text/plain": [
       "([18, 16, 14],\n",
       " [14, 14, 16, 16, 18, 18, 20],\n",
       "    Xprecoordinate  Yprecoordinate  preEvalues\n",
       " 0              14             213    0.997050\n",
       " 1              14             199    0.144074\n",
       " 2              16             199    0.997050\n",
       " 3              16             213    0.144074\n",
       " 4              18             213    0.997050\n",
       " 5              18             199    0.144074\n",
       " 6              20             199    0.997050)"
      ]
     },
     "execution_count": 88,
     "metadata": {},
     "output_type": "execute_result"
    }
   ],
   "source": [
    "preextrude(starting_pointx= starting_pointx, line_spacing = line_spacing, elow=elow, ehigh=ehigh, yvalues=yvalues)"
   ]
  },
  {
   "cell_type": "code",
   "execution_count": 55,
   "id": "9712ce48-ab5b-4a3e-af3a-21b29255f209",
   "metadata": {},
   "outputs": [
    {
     "data": {
      "text/plain": [
       "[213, 199, 199, 213, 213, 199, 199]"
      ]
     },
     "execution_count": 55,
     "metadata": {},
     "output_type": "execute_result"
    }
   ],
   "source": [
    "yvalues[1:len(xprevalues)+1]"
   ]
  },
  {
   "cell_type": "code",
   "execution_count": 17,
   "id": "fb13058d-e380-46b0-bcc4-fc4b3e5981b4",
   "metadata": {},
   "outputs": [
    {
     "data": {
      "image/png": "[encoded data removed]",
      "text/plain": [
       "<Figure size 432x288 with 1 Axes>"
      ]
     },
     "metadata": {
      "needs_background": "light"
     },
     "output_type": "display_data"
    }
   ],
   "source": [
    "layer1.plot(kind='scatter',x='Xcoordinate',y='Ycoordinate',color='red')\n",
    "plt.show()"
   ]
  },
  {
   "cell_type": "code",
   "execution_count": 18,
   "id": "262e998a-e175-42e5-9c3d-d4426b1bee53",
   "metadata": {},
   "outputs": [],
   "source": [
    "def origi_scaffold(layer_height, speed, xvalues, yvalues, layer_num, layer1, xvalues2, yvalues2, layer2even):\n",
    "    \n",
    "    curr_height = layer_height\n",
    "    \n",
    "    # START CODE \n",
    "    \n",
    "    with open(\"Gcode.txt\", \"a\") as f:\n",
    "        print(\";STARTCODE\",\"\\n\", file=f)\n",
    "        print(startcode,\"\\n\", file=f)\n",
    "        print(\"M165\", \"A\" + str(premixingA),\"B\" + str(premixingB), \"\\n\", file=f)\n",
    "\n",
    "    with open(\"Gcode.txt\", \"a\") as f:\n",
    "        print(\"G0 F600\", \"X\" +  str(xprevalues[0]), \"Y\" + str(yvalues[0]), \"Z\" + str(curr_height), file=f)\n",
    "        print(\"G0 F\" + str(int(speed/2)), \"X\" + str(xprevalues[0]), \"Y\" + str(yvalues[0]), \"Z\" + str(curr_height),\"\\n\", file=f)\n",
    "        curr_height = curr_height + layer_height\n",
    " \n",
    "\n",
    "    # PREEXTRUDE\n",
    "    with open(\"Gcode.txt\", \"a\") as f:\n",
    "        for index in range(len(dfpreextrude)):\n",
    "            with open(\"Gcode.txt\", \"a\") as f:\n",
    "                print(\"G1\",\n",
    "                \"X\" + str(dfpreextrude.loc[index,\"Xprecoordinate\"]), \n",
    "                 \"Y\" + str(dfpreextrude.loc[index , \"Yprecoordinate\"]),\n",
    "                 \"E\" + str(dfpreextrude.loc[index , \"preEvalues\"]), file=f)\n",
    "                \n",
    "    # MIXING                \n",
    "    with open(\"Gcode.txt\", \"a\") as f:\n",
    "        print(\"\\n\", file=f)\n",
    "        print(\"M165\", \"A\" + str(mixingA),\"B\" + str(mixingB), \"\\n\", file=f)\n",
    "\n",
    "        \n",
    "    # OIRIGIGI SCAFFOLD\n",
    "\n",
    "    n=1\n",
    "    \n",
    "    with open(\"Gcode.txt\", \"a\") as f:\n",
    "        print(\"G0 F\" + str(speed), file=f)\n",
    "        \n",
    "    \n",
    "    with open(\"Gcode.txt\", \"a\") as f:\n",
    "        for i in range(1,layer_num+1):\n",
    "            if i % 2 != 0:\n",
    "                # LAYER 1  \n",
    "                with open(\"Gcode.txt\", \"a\") as f:\n",
    "                    print(\";Layer number\", n, file=f)\n",
    "                    n+=1\n",
    "                    \n",
    "                with open(\"Gcode.txt\", \"a\") as f:\n",
    "                    for index in range(len(layer1)):\n",
    "                        with open(\"Gcode.txt\", \"a\") as f:\n",
    "                            print(\"G1\",\n",
    "                                \"X\" + str(layer1.loc[index, \"Xcoordinate\"]), \n",
    "                                \"Y\" + str(layer1.loc[index, \"Ycoordinate\"]),\n",
    "                                \"E\" + str(layer1.loc[index, \"Evalues\"]), file=f)\n",
    "\n",
    "                    with open(\"Gcode.txt\", \"a\") as f:\n",
    "                        print(\"G0\", \"X\" + str(xvalues[-1]), \"Y\" + str(yvalues[-1]), \"Z\" + str(curr_height), file=f)\n",
    "                        print(\"\\n\", file=f)\n",
    "                        \n",
    "                    curr_height = curr_height + layer_height\n",
    "\n",
    "            else:\n",
    "                    # LAYER 2  \n",
    "                with open(\"Gcode.txt\", \"a\") as f:\n",
    "                    print(\";Layer number\", n, file=f)\n",
    "                    n+=1\n",
    "                \n",
    "                with open(\"Gcode.txt\", \"a\") as f:\n",
    "                    for index in range(len(layer2even)):\n",
    "                        with open(\"Gcode.txt\", \"a\") as f:\n",
    "                            print(\"G1\",\n",
    "                                \"X\" + str(layer2even.loc[index, \"Xcoordinate2even\"]), \n",
    "                                \"Y\" + str(layer2even.loc[index, \"Ycoordinate2even\"]),\n",
    "                                \"E\" + str(layer2even.loc[index,\"Evalues\"]), file=f)\n",
    "\n",
    "                    with open(\"Gcode.txt\", \"a\") as f:\n",
    "                        print(\"G0\", \"X\" + str(xvalues2even[-1]), \"Y\" + str(yvalues2even[-1]), \"Z\" + str(curr_height), file=f)\n",
    "                        print(\"\\n\", file=f)\n",
    "\n",
    "\n",
    "                    curr_height = curr_height + layer_height\n",
    "                    \n",
    "    # END CODE\n",
    "    \n",
    "    # lower by z-value = current height\n",
    "            "
   ]
  },
  {
   "cell_type": "code",
   "execution_count": 52,
   "id": "39c7a7e9-6479-47d9-b542-3cef41063e1b",
   "metadata": {},
   "outputs": [],
   "source": [
    "origi_scaffold(layer_height=layer_height, speed=speed, xvalues =  xvalues, yvalues = yvalues, layer_num = layer_num, layer1 = layer1, xvalues2 = xvalues2even, yvalues2 = yvalues2even, layer2even = layer2even)"
   ]
  },
  {
   "cell_type": "code",
   "execution_count": 63,
   "id": "72817775-3420-4c43-84cd-818d8c4dbdb4",
   "metadata": {},
   "outputs": [
    {
     "data": {
      "text/plain": [
       "'20.0'"
      ]
     },
     "execution_count": 63,
     "metadata": {},
     "output_type": "execute_result"
    }
   ],
   "source": [
    "str(layer2even.loc[1, \"Xcoordinate2even\"]+rowlst[1])"
   ]
  },
  {
   "cell_type": "code",
   "execution_count": 134,
   "id": "c775cee7-859c-4bf9-9e82-e76b3f75f333",
   "metadata": {},
   "outputs": [
    {
     "data": {
      "text/plain": [
       "0.84"
      ]
     },
     "execution_count": 134,
     "metadata": {},
     "output_type": "execute_result"
    }
   ],
   "source": [
    "layer_height"
   ]
  },
  {
   "cell_type": "code",
   "execution_count": 93,
   "id": "1c3b527e-d5b5-4a9c-96d8-c75e0f2eadc2",
   "metadata": {},
   "outputs": [],
   "source": [
    "def multiply_scaffold(layer_height, speed, xvalues, yvalues, layer_num, layer1, xvalues2, yvalues2, layer2even):\n",
    "    \n",
    "    curr_height = layer_height\n",
    "    \n",
    "    # START CODE \n",
    "    \n",
    "    with open(\"Gcode.txt\", \"a\") as f:\n",
    "        print(\";STARTCODE\",\"\\n\", file=f)\n",
    "        print(startcode,\"\\n\", file=f)\n",
    "        print(\"M165\", \"A\" + str(premixingA),\"B\" + str(premixingB), \"\\n\", file=f)\n",
    "\n",
    "    with open(\"Gcode.txt\", \"a\") as f:\n",
    "        print(\"G0 F600\", \"X\" +  str(xprevalues[0]), \"Y\" + str(yvalues[0]), \"Z\" + str(curr_height), file=f)\n",
    "        print(\"G0 F\" + str(speed/2), \"X\" + str(xprevalues[0]), \"Y\" + str(yvalues[0]), \"Z\" + str(curr_height),\"\\n\", file=f)\n",
    "        curr_height = curr_height + layer_height\n",
    " \n",
    "\n",
    "    # PREEXTRUDE\n",
    "    with open(\"Gcode.txt\", \"a\") as f:\n",
    "        for index in range(len(dfpreextrude)):\n",
    "            with open(\"Gcode.txt\", \"a\") as f:\n",
    "                print(\"G1\",\n",
    "                \"X\" + str(dfpreextrude.loc[index,\"Xprecoordinate\"]), \n",
    "                 \"Y\" + str(dfpreextrude.loc[index , \"Yprecoordinate\"]),\n",
    "                 \"E\" + str(dfpreextrude.loc[index , \"preEvalues\"]), file=f)\n",
    "                \n",
    "    # MIXING                \n",
    "    with open(\"Gcode.txt\", \"a\") as f:\n",
    "        print(\"\\n\", file=f)\n",
    "        print(\"M165\", \"A\" + str(mixingA),\"B\" + str(mixingB), \"\\n\", file=f)\n",
    "\n",
    "        \n",
    "    # MULTIPLE SCAFFOLD\n",
    "\n",
    "    for l in range (0, len(col_lst)):\n",
    "        \n",
    "        for m in range(0, len(row_lst)):\n",
    "            \n",
    "        \n",
    "            curr_height = layer_height\n",
    "\n",
    "            n=1\n",
    "\n",
    "            with open(\"Gcode.txt\", \"a\") as f:\n",
    "                print(\"G0 F\"  + str(trans_speed), \"X\" + str(xvalues[0] + col_lst[l]), \"Y\" + str(yvalues[-2] + row_lst[m]), file=f)\n",
    "                print(\"\\n\", file=f)\n",
    "\n",
    "            with open(\"Gcode.txt\", \"a\") as f:\n",
    "                print(\"G0 F\" + str(speed), \"Z\" + str(curr_height), file=f)\n",
    "\n",
    "\n",
    "            with open(\"Gcode.txt\", \"a\") as f:\n",
    "                for i in range(1,layer_num+1):\n",
    "                    if i % 2 != 0:\n",
    "                        # LAYER 1  \n",
    "                        with open(\"Gcode.txt\", \"a\") as f:\n",
    "                            print(\";Layer number\", n, file=f)\n",
    "                            n+=1\n",
    "\n",
    "                        with open(\"Gcode.txt\", \"a\") as f:\n",
    "                            for index in range(len(layer1)):\n",
    "                                with open(\"Gcode.txt\", \"a\") as f:\n",
    "                                    print(\"G1\",\n",
    "                                        \"X\" + str(layer1.loc[index, \"Xcoordinate\"] + col_lst[l]), \n",
    "                                        \"Y\" + str(layer1.loc[index, \"Ycoordinate\"] + row_lst[m]),\n",
    "                                        \"E\" + str(layer1.loc[index, \"Evalues\"]), file=f)\n",
    "\n",
    "                            curr_height = curr_height + layer_height\n",
    "\n",
    "                            with open(\"Gcode.txt\", \"a\") as f:\n",
    "                                print(\"G0\", \"X\" + str((xvalues[-1] + col_lst[l]) + overlap), \"Y\" + str((yvalues[-1] + row_lst[m]) - overlap), \"Z\" + str(curr_height), file=f)\n",
    "                                print(\"\\n\", file=f)\n",
    "\n",
    "\n",
    "                    else:\n",
    "                            # LAYER 2  \n",
    "                        with open(\"Gcode.txt\", \"a\") as f:\n",
    "                            print(\";Layer number\", n, file=f)\n",
    "                            n+=1\n",
    "\n",
    "                        with open(\"Gcode.txt\", \"a\") as f:\n",
    "                            for index in range(len(layer2even)):\n",
    "                                with open(\"Gcode.txt\", \"a\") as f:\n",
    "                                    print(\"G1\",\n",
    "                                        \"X\" + str(layer2even.loc[index, \"Xcoordinate2even\"] + col_lst[l]), \n",
    "                                        \"Y\" + str(layer2even.loc[index, \"Ycoordinate2even\"] + row_lst[m]),\n",
    "                                        \"E\" + str(layer2even.loc[index,\"Evalues\"]), file=f)\n",
    "\n",
    "                            curr_height = curr_height + layer_height\n",
    "\n",
    "                            with open(\"Gcode.txt\", \"a\") as f:\n",
    "                                print(\"G0\", \"X\" + str((xvalues2even[-1] + col_lst[l]) + overlap), \"Y\" + str((yvalues2even[-1] + row_lst[m]) - overlap), \"Z\" + str(curr_height), file=f)\n",
    "                                print(\"\\n\", file=f)\n",
    "                                \n",
    "                if layer_num % 2 == 0:\n",
    "                    with open(\"Gcode.txt\", \"a\") as f:\n",
    "                        print(\"G0 F\"  + str(trans_speed), \"X\" + str((xvalues2even[-1] -5) + col_lst[l]), \"Y\" + str(yvalues2even[-1] + row_lst[m]), \"Z\" + str(curr_height), file=f)\n",
    "                        print(\"G0 F\"  + str(trans_speed), \"X\" + str((xvalues2even[-1] -5) + col_lst[l]), \"Y\" + str(yvalues2even[-1] + row_lst[m]), \"Z\" + str(trans_height), file=f)\n",
    "                        print(\"\\n\", file=f)\n",
    "                else: \n",
    "                    with open(\"Gcode.txt\", \"a\") as f:\n",
    "                                print(\"G0 F\"  + str(trans_speed), \"X\" + str((xvalues[-1] + 5) + col_lst[l]), \"Y\" + str(yvalues[-1] + row_lst[m]), \"Z\" + str(curr_height), file=f)\n",
    "                                print(\"G0 F\"  + str(trans_speed), \"X\" + str((xvalues[-1] + 5) + col_lst[l]), \"Y\" + str(yvalues[-1] + row_lst[m]), \"Z\" + str(trans_height), file=f)\n",
    "                                print(\"\\n\", file=f)\n",
    "                                \n",
    "                # END CODE for each SCAFFOLD HERE\n",
    "\n",
    "                # if layer_num = odd use xvalues, yvalues, if layer_num = EVEN use xvalues2even, yvalues2even\n",
    "                # to -1 list value for x and y cooridnate add -1 list value for x and y + 5\n",
    "                # for 6 well plate add z elevation here, lift nozzle anyway to prevent damage to existing scaffolds\n",
    "                # to prevent crash of nozzle with next scaffold:\n",
    "                # take last coordinate of scaffold, add differnece between xvalue[0] and xvalue[-1] (divided by scaffold_size*2) to last coordinate, do the same for yvalue\n",
    "                # !!! CHECK if F600 command goes through or is overwritten instantly by next G0 Fprint_speed command. \n"
   ]
  },
  {
   "cell_type": "code",
   "execution_count": 94,
   "id": "98f71059-bfad-4f94-a969-0c41c124256b",
   "metadata": {},
   "outputs": [],
   "source": [
    "multiply_scaffold(layer_height=layer_height, speed=speed, xvalues =  xvalues, yvalues = yvalues, layer_num = layer_num, layer1 = layer1, xvalues2 = xvalues2even, yvalues2 = yvalues2even, layer2even = layer2even)"
   ]
  },
  {
   "cell_type": "code",
   "execution_count": 125,
   "id": "5b3f9905-e486-4b65-afec-17a8dcb3f004",
   "metadata": {},
   "outputs": [
    {
     "name": "stdout",
     "output_type": "stream",
     "text": [
      "X10.0\n",
      "X11.6\n",
      "X11.6\n",
      "X13.2\n",
      "X13.2\n",
      "X14.799999999999999\n",
      "X14.799999999999999\n",
      "X16.4\n",
      "X16.4\n",
      "X18.0\n",
      "X18.0\n",
      "X19.6\n",
      "X19.6\n",
      "X21.200000000000003\n",
      "X21.200000000000003\n",
      "X20.0\n",
      "X21.6\n",
      "X21.6\n",
      "X23.2\n",
      "X23.2\n",
      "X24.799999999999997\n",
      "X24.799999999999997\n",
      "X26.4\n",
      "X26.4\n",
      "X28.0\n",
      "X28.0\n",
      "X29.6\n",
      "X29.6\n",
      "X31.200000000000003\n",
      "X31.200000000000003\n",
      "X30.0\n",
      "X31.6\n",
      "X31.6\n",
      "X33.2\n",
      "X33.2\n",
      "X34.8\n",
      "X34.8\n",
      "X36.4\n",
      "X36.4\n",
      "X38.0\n",
      "X38.0\n",
      "X39.6\n",
      "X39.6\n",
      "X41.2\n",
      "X41.2\n",
      "X40.0\n",
      "X41.6\n",
      "X41.6\n",
      "X43.2\n",
      "X43.2\n",
      "X44.8\n",
      "X44.8\n",
      "X46.4\n",
      "X46.4\n",
      "X48.0\n",
      "X48.0\n",
      "X49.6\n",
      "X49.6\n",
      "X51.2\n",
      "X51.2\n"
     ]
    }
   ],
   "source": [
    "for l in range (0, len(col_lst)):\n",
    "    for index in range(len(layer1)):\n",
    "        print(\"X\" + str(layer1.loc[index, \"Xcoordinate\"] + col_lst[l]))"
   ]
  },
  {
   "cell_type": "code",
   "execution_count": null,
   "id": "af59bdd9-963a-4b4f-a8d5-71871e42be12",
   "metadata": {},
   "outputs": [],
   "source": []
  },
  {
   "cell_type": "code",
   "execution_count": 123,
   "id": "4821eabd-a530-4321-8f47-b52150668c90",
   "metadata": {},
   "outputs": [
    {
     "data": {
      "text/plain": [
       "[0, 10, 20, 30]"
      ]
     },
     "execution_count": 123,
     "metadata": {},
     "output_type": "execute_result"
    }
   ],
   "source": [
    "col_lst"
   ]
  },
  {
   "cell_type": "code",
   "execution_count": 128,
   "id": "a638f13a-e74f-4371-9680-0f5c23555fa1",
   "metadata": {},
   "outputs": [],
   "source": [
    "def multiply_scaffold(layer_height, speed, xvalues, yvalues, layer_num, layer1, xvalues2, yvalues2, layer2, distance_scaf):\n",
    "    \n",
    "    n = 1\n",
    "    curr_height = layer_height\n",
    "    x_pos = distance_scaf\n",
    "    y_pos = distance_scaf\n",
    "\n",
    "    for i in range(0,n_rows):\n",
    "\n",
    "        with open(\"Gcode.txt\", \"a\") as f:\n",
    "            print(\"G0 F\" + str(speed), \"X\" + str(xvalues[0]), \"Y\" + str(yvalues[0]), file=f)\n",
    "\n",
    "        for i in range(0, layer_num):\n",
    "            with open(\"Gcode.txt\", \"a\") as f:\n",
    "                print(\";Layer number\", n, file=f)\n",
    "                n+=1\n",
    "                # LAYER 1    \n",
    "                for index in range(len(layer1)):\n",
    "                    with open(\"Gcode.txt\", \"a\") as f:\n",
    "                        print(\"G1\",\n",
    "                        \"X\" + str(layer1.loc[index, \"Xcoordinate\"] + x_pos), \n",
    "                            \"Y\" + str(layer1.loc[index, \"Ycoordinate\"]),\n",
    "                            \"E\" + str(layer1.loc[index, \"Evalues\"]), file=f)\n",
    "\n",
    "                with open(\"Gcode.txt\", \"a\") as f:\n",
    "                    print(\"G0\", \"X\" + str(xvalues[-1]), \"Y\" + str(yvalues[-1]), \"Z\" + str(curr_height), file=f)\n",
    "                    print(\"\\n\", file=f)\n",
    "                    \n",
    "                curr_height = curr_height + layer_height\n",
    "\n",
    "\n",
    "                # LAYER 2   \n",
    "            with open(\"Gcode.txt\", \"a\") as f:\n",
    "                print(\";Layer number\", n, file=f)\n",
    "                n+=1\n",
    "                for index in range(len(layer2)):\n",
    "                        with open(\"Gcode.txt\", \"a\") as f:\n",
    "                            print(\"G1\",\n",
    "                            \"X\" + str(layer2.loc[index, \"Xcoordinate2\"] + x_pos), \n",
    "                            \"Y\" + str(layer2.loc[index, \"Ycoordinate2\"]),\n",
    "                            \"E\" + str(layer2.loc[index,\"Evalues\"]), file=f)\n",
    "\n",
    "                         #print(\"G0 F600\" X64.16 Y114.16 Z1.68\") \n",
    "                         #G0 F600 X64.16 Y114.16 Z1.68\n",
    "\n",
    "                with open(\"Gcode.txt\", \"a\") as f:\n",
    "                    print(\"G0\", \"X\" + str(xvalues2[-1]), \"Y\" + str(yvalues2[-1]), \"Z\" + str(curr_height), file=f)\n",
    "                    print(\"\\n\", file=f)\n",
    "                    \n",
    "                curr_height = curr_height + layer_height\n",
    "            \n",
    "            \n",
    "            \n",
    "            for i in range(0, n_columns):\n",
    "                for i in range(0, layer_num):\n",
    "                    with open(\"Gcode.txt\", \"a\") as f:\n",
    "                        print(\";Layer number\", n, file=f)\n",
    "                        n+=1\n",
    "                        # LAYER 1    \n",
    "                        for index in range(len(layer1)):\n",
    "                            with open(\"Gcode.txt\", \"a\") as f:\n",
    "                                print(\"G1\",\n",
    "                                \"X\" + str(layer1.loc[index, \"Xcoordinate\"] + x_pos), \n",
    "                                \"Y\" + str(layer1.loc[index, \"Ycoordinate\"]+ y_pos),\n",
    "                                \"E\" + str(layer1.loc[index, \"Evalues\"]), file=f)\n",
    "\n",
    "                with open(\"Gcode.txt\", \"a\") as f:\n",
    "                    print(\"G0\", \"X\" + str(xvalues[-1]), \"Y\" + str(yvalues[-1]), \"Z\" + str(curr_height), file=f)\n",
    "                    print(\"\\n\", file=f)\n",
    "                    \n",
    "                curr_height = curr_height + layer_height\n",
    "\n",
    "\n",
    "                # LAYER 2   \n",
    "            with open(\"Gcode.txt\", \"a\") as f:\n",
    "                print(\";Layer number\", n, file=f)\n",
    "                n+=1\n",
    "                for index in range(len(layer2)):\n",
    "                        with open(\"Gcode.txt\", \"a\") as f:\n",
    "                            print(\"G1\",\n",
    "                            \"X\" + str(layer2.loc[index, \"Xcoordinate2\"] + x_pos), \n",
    "                            \"Y\" + str(layer2.loc[index, \"Ycoordinate2\"] + y_pos),\n",
    "                            \"E\" + str(layer2.loc[index,\"Evalues\"]), file=f)\n",
    "\n",
    "                         #print(\"G0 F600\" X64.16 Y114.16 Z1.68\") \n",
    "                         #G0 F600 X64.16 Y114.16 Z1.68\n",
    "\n",
    "                with open(\"Gcode.txt\", \"a\") as f:\n",
    "                    print(\"G0\", \"X\" + str(xvalues2[-1]), \"Y\" + str(yvalues2[-1]), \"Z\" + str(curr_height), file=f)\n",
    "                    print(\"\\n\", file=f)\n",
    "                    \n",
    "                curr_height = curr_height + layer_height\n",
    "                \n",
    "\n",
    "        x_pos += distance_scaf\n",
    "        y_pos += distance_scaf\n",
    "    "
   ]
  },
  {
   "cell_type": "code",
   "execution_count": 129,
   "id": "1c65eb4f-28c6-4618-9ec2-c7117fe8b321",
   "metadata": {},
   "outputs": [],
   "source": [
    "multiply_scaffold(layer_height=layer_height,\n",
    "                  speed=speed,\n",
    "                  xvalues =  xvalues,\n",
    "                  yvalues = yvalues,\n",
    "                  layer_num = layer_num,\n",
    "                  layer1 = layer1,\n",
    "                  xvalues2 = xvalues2,\n",
    "                  yvalues2 = yvalues2,\n",
    "                  layer2 = layer2,\n",
    "                  distance_scaf=distance_scaf)"
   ]
  },
  {
   "cell_type": "code",
   "execution_count": 131,
   "id": "98d981b9-fd11-4440-967b-1cd2a9f202af",
   "metadata": {},
   "outputs": [
    {
     "name": "stdout",
     "output_type": "stream",
     "text": [
      "1\n"
     ]
    }
   ],
   "source": [
    "# START CODE \n",
    "with open(\"Gcode.txt\", \"a\") as f:\n",
    "    print(startcode,\"\\n\", file=f)\n",
    "    print(\"M165\", \"A\" + str(premixingA),\"B\" + str(premixingB), \"\\n\", file=f)\n",
    "    \n",
    "curr_height = layer_height\n",
    "\n",
    "with open(\"Gcode.txt\", \"a\") as f:\n",
    "    print(\"G0 F600\", \"X\" +  str(xprevalues[0]), \"Y\" + str(yvalues[0]), \"Z\" + str(curr_height), file=f)\n",
    "    print(\"G0 F\", speed/2, \"X\" + str(xprevalues[0]), \"Y\" + str(yvalues[0]), \"Z\" + str(curr_height), file=f)\n",
    "    curr_height = curr_height + layer_height\n",
    "\n",
    "# PREEXTRUDE\n",
    "for index in range(len(dfpreextrude)):\n",
    "    with open(\"Gcode.txt\", \"a\") as f:\n",
    "        print(\"G1\",\n",
    "        \"X\" + str(dfpreextrude.loc[index,\"Xprecoordinate\"]), \n",
    "         \"Y\" + str(dfpreextrude.loc[index , \"Yprecoordinate\"]),\n",
    "         \"E\" + str(dfpreextrude.loc[index , \"preEvalues\"]), file=f)\n",
    "# MIXING                \n",
    "with open(\"Gcode.txt\", \"a\") as f:\n",
    "    print(\"\\n\", file=f)\n",
    "    print(\"M165\", \"A\" + str(mixingA),\"B\" + str(mixingB), \"\\n\", file=f)\n",
    "    \n",
    "    \n",
    "# ORIGINAL SCAFFOLD\n",
    "   \n",
    "n=1\n",
    "\n",
    "with open(\"Gcode.txt\", \"a\") as f:\n",
    "    print(\"G0 F\" + str(speed), \"X\" + str(xvalues[0]), \"Y\" + str(yvalues[0]), file=f)\n",
    "    \n",
    "    for i in range(0, layer_num):\n",
    "        with open(\"Gcode.txt\", \"a\") as f:\n",
    "            print(\";Layer number\", n, file=f)\n",
    "            n+=1\n",
    "            # LAYER 1    \n",
    "            for index in range(len(layer1)):\n",
    "                with open(\"Gcode.txt\", \"a\") as f:\n",
    "                    print(\"G1\",\n",
    "                    \"X\" + str(layer1.loc[index, \"Xcoordinate\"]), \n",
    "                        \"Y\" + str(layer1.loc[index, \"Ycoordinate\"]),\n",
    "                        \"E\" + str(layer1.loc[index, \"Evalues\"]), file=f)\n",
    "\n",
    "            with open(\"Gcode.txt\", \"a\") as f:\n",
    "                print(\"G0\", \"X\" + str(xvalues[-1]), \"Y\" + str(yvalues[-1]), \"Z\" + str(curr_height), file=f)\n",
    "                print(\"\\n\", file=f)\n",
    "            curr_height = curr_height + layer_height\n",
    "\n",
    "\n",
    "            # LAYER 2   \n",
    "        with open(\"Gcode.txt\", \"a\") as f:\n",
    "            print(\";Layer number\", n, file=f)\n",
    "            n+=1\n",
    "            for index in range(len(layer2)):\n",
    "                    with open(\"Gcode.txt\", \"a\") as f:\n",
    "                        print(\"G1\",\n",
    "                        \"X\" + str(layer2.loc[index, \"Xcoordinate2\"]), \n",
    "                        \"Y\" + str(layer2.loc[index, \"Ycoordinate2\"]),\n",
    "                        \"E\" + str(layer2.loc[index,\"Evalues\"]), file=f)\n",
    "\n",
    "                     #print(\"G0 F600\" X64.16 Y114.16 Z1.68\") \n",
    "                     #G0 F600 X64.16 Y114.16 Z1.68\n",
    "\n",
    "            with open(\"Gcode.txt\", \"a\") as f:\n",
    "                print(\"G0\", \"X\" + str(xvalues2[-1]), \"Y\" + str(yvalues2[-1]), \"Z\" + str(curr_height), file=f)\n",
    "                print(\"\\n\", file=f)\n",
    "\n",
    "\n",
    "            curr_height = curr_height + layer_height\n",
    "        \n",
    "# END ORGIGI SCAFFOLD   \n",
    "\n",
    "# BEGIN COLUMN SCAFFOLDS\n",
    "x_pos = distance_scaf\n",
    "y_pos = distance_scaf\n",
    "n_rows -= 1\n",
    "print(n_rows)\n",
    "\n",
    "if n_rows > 0:\n",
    "    for i in range(0,n_rows):\n",
    "\n",
    "        curr_height = layer_height\n",
    "        n=1\n",
    "\n",
    "        with open(\"Gcode.txt\", \"a\") as f:\n",
    "            print(\"G0 F\", speed, \"X\", xvalues[0], \"Y\", yvalues[0], file=f)\n",
    "\n",
    "        for i in range(0, layer_num):\n",
    "            with open(\"Gcode.txt\", \"a\") as f:\n",
    "                print(\";Layer number\", n, file=f)\n",
    "                n+=1\n",
    "                # LAYER 1    \n",
    "                for index in range(len(layer1)):\n",
    "                    with open(\"Gcode.txt\", \"a\") as f:\n",
    "                        print(\"G1\",\n",
    "                        \"X\",layer1.loc[index, \"Xcoordinate\"] + x_pos, \n",
    "                        \"Y\",layer1.loc[index, \"Ycoordinate\"],\n",
    "                         \"E\", layer1.loc[index,\"Evalues\"], file=f)\n",
    "\n",
    "                with open(\"Gcode.txt\", \"a\") as f:\n",
    "                    print(\"G0\", \"X\", xvalues[-1], \"Y\", yvalues[-1], \"Z\", curr_height, file=f)\n",
    "                    print(\"\\n\", file=f)\n",
    "                curr_height = curr_height + layer_height\n",
    "\n",
    "\n",
    "                # LAYER 2   \n",
    "            with open(\"Gcode.txt\", \"a\") as f:\n",
    "                print(\";Layer number\", n, file=f)\n",
    "                n+=1\n",
    "                \n",
    "            for index in range(len(layer2)):\n",
    "                with open(\"Gcode.txt\", \"a\") as f:\n",
    "                    print(\"G1\",\n",
    "                        \"X\",layer2.loc[index, \"Xcoordinate2\"] + x_pos, \n",
    "                        \"Y\",layer2.loc[index, \"Ycoordinate2\"],\n",
    "                        \"E\", layer2.loc[index,\"Evalues\"], file=f)\n",
    "\n",
    "                        #print(\"G0 F600\" X64.16 Y114.16 Z1.68\") \n",
    "                        #G0 F600 X64.16 Y114.16 Z1.68\n",
    "\n",
    "                with open(\"Gcode.txt\", \"a\") as f:\n",
    "                    print(\"G0\", \"X\", xvalues2[-1], \"Y\", yvalues2[-1], \"Z\", curr_height, file=f)\n",
    "                    print(\"\\n\", file=f)\n",
    "                    \n",
    "# END ROW ITeration\n",
    "\n",
    "        for i in range(0,n_columns):\n",
    "\n",
    "                curr_height = layer_height\n",
    "                n=1\n",
    "\n",
    "                with open(\"Gcode.txt\", \"a\") as f:\n",
    "                    print(\"G0 F\" + str(speed), \"X\" + str(xvalues[0]), \"Y\" + str(yvalues[0]), file=f)\n",
    "\n",
    "                for i in range(0, layer_num):\n",
    "                    with open(\"Gcode.txt\", \"a\") as f:\n",
    "                        print(\";Layer number\", n, file=f)\n",
    "                        n+=1\n",
    "                        # LAYER 1    \n",
    "                        for index in range(len(layer1)):\n",
    "                            with open(\"Gcode.txt\", \"a\") as f:\n",
    "                                print(\"G1\",\n",
    "                                \"X\" + str(layer1.loc[index, \"Xcoordinate\"] + x_pos), \n",
    "                                 \"Y\" + str(layer1.loc[index, \"Ycoordinate\"]),\n",
    "                                 \"E\" + str(layer1.loc[index, \"Evalues\"]), file=f)\n",
    "\n",
    "                        with open(\"Gcode.txt\", \"a\") as f:\n",
    "                            print(\"G0\", \"X\" + str(xvalues[-1]), \"Y\" + str(yvalues[-1]), \"Z\" + str(curr_height), file=f)\n",
    "                            print(\"\\n\", file=f)\n",
    "                        curr_height = curr_height + layer_height\n",
    "\n",
    "\n",
    "                        # LAYER 2   \n",
    "                    with open(\"Gcode.txt\", \"a\") as f:\n",
    "                        print(\";Layer number\", n, file=f)\n",
    "                        n+=1\n",
    "                        for index in range(len(layer2)):\n",
    "                            with open(\"Gcode.txt\", \"a\") as f:\n",
    "                                 print(\"G1\",\n",
    "                                    \"X\" + str(layer2.loc[index, \"Xcoordinate2\"] + x_pos), \n",
    "                                     \"Y\" + str(layer2.loc[index, \"Ycoordinate2\"]),\n",
    "                                     \"E\" + str(layer2.loc[index,\"Evalues\"]), file=f)\n",
    "\n",
    "                                #print(\"G0 F600\" X64.16 Y114.16 Z1.68\") \n",
    "                                #G0 F600 X64.16 Y114.16 Z1.68\n",
    "\n",
    "                        with open(\"Gcode.txt\", \"a\") as f:\n",
    "                            print(\"G0\", \"X\" + str(xvalues2[-1]), \"Y\" + str(yvalues2[-1]), \"Z\" + str(curr_height), file=f)\n",
    "                            print(\"\\n\", file=f)\n",
    "\n",
    "\n",
    "                        curr_height = curr_height + layer_height\n",
    "                x_pos += distance_scaf\n",
    "                y_pos += distance_scaf\n",
    "            \n",
    "else: \n",
    "    with open(\"Gcode.txt\", \"a\") as f:\n",
    "        print(\";Number of rows is \", + n_rows, file=f)\n",
    "        \n",
    "        \n",
    "# END CODE \n",
    "\n",
    "with open(\"Gcode.txt\", \"a\") as f:\n",
    "    print(\";Pulling strand of last layer \\nG0 F3600 X\" + str(xvalues[-1]) , \"Y\" + str(yvalues[-1]), \"\\n;Pulling upwards \\nG0 F3600 X55.335 Y95 Z \", layer_height * layer_num, \"\\nG0 Z-\",(layer_height * layer_num)*1.5 ,\"\\n;ENDCODE \\nM84 \\nM82 ;absolute extrusion mode \\nM104 S0 \\nEnd of Gcode\", file=f)"
   ]
  },
  {
   "cell_type": "code",
   "execution_count": 693,
   "id": "e4d7b0e5-9788-4811-8b74-244e594d645c",
   "metadata": {},
   "outputs": [
    {
     "data": {
      "text/plain": [
       "<function __main__.preextrude(starting_pointx, line_spacing, yvalues, evalues)>"
      ]
     },
     "execution_count": 693,
     "metadata": {},
     "output_type": "execute_result"
    }
   ],
   "source": [
    "preextrude"
   ]
  },
  {
   "cell_type": "code",
   "execution_count": 496,
   "id": "39a46bf0-3650-4ac7-9ffb-15a601ce4c08",
   "metadata": {},
   "outputs": [],
   "source": [
    "copy_num = range(0,n_columns)\n",
    "dbetweencopies = distance_scaf"
   ]
  },
  {
   "cell_type": "code",
   "execution_count": 497,
   "id": "621af94b-37c3-4c67-9cae-88dfc852c8a7",
   "metadata": {},
   "outputs": [],
   "source": [
    "d = {}\n",
    "for x in range(1, 10):\n",
    "    d[\"copy{0}\".format(x)] = layer1.copy()"
   ]
  },
  {
   "cell_type": "code",
   "execution_count": 498,
   "id": "493b6d6d-c9bb-4ca3-bff2-c66e25a7f3b8",
   "metadata": {},
   "outputs": [
    {
     "data": {
      "text/plain": [
       "0     40.0\n",
       "1     41.6\n",
       "2     41.6\n",
       "3     43.2\n",
       "4     43.2\n",
       "5     44.8\n",
       "6     44.8\n",
       "7     46.4\n",
       "8     46.4\n",
       "9     48.0\n",
       "10    48.0\n",
       "11    49.6\n",
       "12    49.6\n",
       "13    51.2\n",
       "14    51.2\n",
       "Name: Xcoordinate, dtype: float64"
      ]
     },
     "execution_count": 498,
     "metadata": {},
     "output_type": "execute_result"
    }
   ],
   "source": [
    "d[\"copy1\"][\"Xcoordinate\"]+30"
   ]
  },
  {
   "cell_type": "code",
   "execution_count": 499,
   "id": "c967c8b4-406c-4d60-aaec-48d75633421e",
   "metadata": {},
   "outputs": [
    {
     "data": {
      "text/html": [
       "<div>\n",
       "<style scoped>\n",
       "    .dataframe tbody tr th:only-of-type {\n",
       "        vertical-align: middle;\n",
       "    }\n",
       "\n",
       "    .dataframe tbody tr th {\n",
       "        vertical-align: top;\n",
       "    }\n",
       "\n",
       "    .dataframe thead th {\n",
       "        text-align: right;\n",
       "    }\n",
       "</style>\n",
       "<table border=\"1\" class=\"dataframe\">\n",
       "  <thead>\n",
       "    <tr style=\"text-align: right;\">\n",
       "      <th></th>\n",
       "      <th>Xcoordinate</th>\n",
       "      <th>Ycoordinate</th>\n",
       "      <th>Evalues</th>\n",
       "    </tr>\n",
       "  </thead>\n",
       "  <tbody>\n",
       "    <tr>\n",
       "      <th>0</th>\n",
       "      <td>10.0</td>\n",
       "      <td>41.2</td>\n",
       "      <td>1.03</td>\n",
       "    </tr>\n",
       "    <tr>\n",
       "      <th>1</th>\n",
       "      <td>11.6</td>\n",
       "      <td>41.2</td>\n",
       "      <td>0.14</td>\n",
       "    </tr>\n",
       "    <tr>\n",
       "      <th>2</th>\n",
       "      <td>11.6</td>\n",
       "      <td>30.0</td>\n",
       "      <td>1.03</td>\n",
       "    </tr>\n",
       "    <tr>\n",
       "      <th>3</th>\n",
       "      <td>13.2</td>\n",
       "      <td>30.0</td>\n",
       "      <td>0.14</td>\n",
       "    </tr>\n",
       "    <tr>\n",
       "      <th>4</th>\n",
       "      <td>13.2</td>\n",
       "      <td>41.2</td>\n",
       "      <td>1.03</td>\n",
       "    </tr>\n",
       "    <tr>\n",
       "      <th>5</th>\n",
       "      <td>14.8</td>\n",
       "      <td>41.2</td>\n",
       "      <td>0.14</td>\n",
       "    </tr>\n",
       "    <tr>\n",
       "      <th>6</th>\n",
       "      <td>14.8</td>\n",
       "      <td>30.0</td>\n",
       "      <td>1.03</td>\n",
       "    </tr>\n",
       "    <tr>\n",
       "      <th>7</th>\n",
       "      <td>16.4</td>\n",
       "      <td>30.0</td>\n",
       "      <td>0.14</td>\n",
       "    </tr>\n",
       "    <tr>\n",
       "      <th>8</th>\n",
       "      <td>16.4</td>\n",
       "      <td>41.2</td>\n",
       "      <td>1.03</td>\n",
       "    </tr>\n",
       "    <tr>\n",
       "      <th>9</th>\n",
       "      <td>18.0</td>\n",
       "      <td>41.2</td>\n",
       "      <td>0.14</td>\n",
       "    </tr>\n",
       "    <tr>\n",
       "      <th>10</th>\n",
       "      <td>18.0</td>\n",
       "      <td>30.0</td>\n",
       "      <td>1.03</td>\n",
       "    </tr>\n",
       "    <tr>\n",
       "      <th>11</th>\n",
       "      <td>19.6</td>\n",
       "      <td>30.0</td>\n",
       "      <td>0.14</td>\n",
       "    </tr>\n",
       "    <tr>\n",
       "      <th>12</th>\n",
       "      <td>19.6</td>\n",
       "      <td>41.2</td>\n",
       "      <td>1.03</td>\n",
       "    </tr>\n",
       "    <tr>\n",
       "      <th>13</th>\n",
       "      <td>21.2</td>\n",
       "      <td>41.2</td>\n",
       "      <td>0.14</td>\n",
       "    </tr>\n",
       "    <tr>\n",
       "      <th>14</th>\n",
       "      <td>21.2</td>\n",
       "      <td>30.0</td>\n",
       "      <td>1.03</td>\n",
       "    </tr>\n",
       "  </tbody>\n",
       "</table>\n",
       "</div>"
      ],
      "text/plain": [
       "    Xcoordinate  Ycoordinate  Evalues\n",
       "0          10.0         41.2     1.03\n",
       "1          11.6         41.2     0.14\n",
       "2          11.6         30.0     1.03\n",
       "3          13.2         30.0     0.14\n",
       "4          13.2         41.2     1.03\n",
       "5          14.8         41.2     0.14\n",
       "6          14.8         30.0     1.03\n",
       "7          16.4         30.0     0.14\n",
       "8          16.4         41.2     1.03\n",
       "9          18.0         41.2     0.14\n",
       "10         18.0         30.0     1.03\n",
       "11         19.6         30.0     0.14\n",
       "12         19.6         41.2     1.03\n",
       "13         21.2         41.2     0.14\n",
       "14         21.2         30.0     1.03"
      ]
     },
     "execution_count": 499,
     "metadata": {},
     "output_type": "execute_result"
    }
   ],
   "source": [
    "d[\"copy1\"]"
   ]
  },
  {
   "cell_type": "code",
   "execution_count": 500,
   "id": "1c3e4561-4b6c-411b-b5e9-01ac38882cfb",
   "metadata": {},
   "outputs": [
    {
     "data": {
      "text/html": [
       "<div>\n",
       "<style scoped>\n",
       "    .dataframe tbody tr th:only-of-type {\n",
       "        vertical-align: middle;\n",
       "    }\n",
       "\n",
       "    .dataframe tbody tr th {\n",
       "        vertical-align: top;\n",
       "    }\n",
       "\n",
       "    .dataframe thead th {\n",
       "        text-align: right;\n",
       "    }\n",
       "</style>\n",
       "<table border=\"1\" class=\"dataframe\">\n",
       "  <thead>\n",
       "    <tr style=\"text-align: right;\">\n",
       "      <th></th>\n",
       "      <th>Xcoordinate</th>\n",
       "      <th>Ycoordinate</th>\n",
       "      <th>Evalues</th>\n",
       "    </tr>\n",
       "  </thead>\n",
       "  <tbody>\n",
       "    <tr>\n",
       "      <th>0</th>\n",
       "      <td>10.0</td>\n",
       "      <td>41.2</td>\n",
       "      <td>1.03</td>\n",
       "    </tr>\n",
       "    <tr>\n",
       "      <th>1</th>\n",
       "      <td>11.6</td>\n",
       "      <td>41.2</td>\n",
       "      <td>0.14</td>\n",
       "    </tr>\n",
       "    <tr>\n",
       "      <th>2</th>\n",
       "      <td>11.6</td>\n",
       "      <td>30.0</td>\n",
       "      <td>1.03</td>\n",
       "    </tr>\n",
       "    <tr>\n",
       "      <th>3</th>\n",
       "      <td>13.2</td>\n",
       "      <td>30.0</td>\n",
       "      <td>0.14</td>\n",
       "    </tr>\n",
       "    <tr>\n",
       "      <th>4</th>\n",
       "      <td>13.2</td>\n",
       "      <td>41.2</td>\n",
       "      <td>1.03</td>\n",
       "    </tr>\n",
       "  </tbody>\n",
       "</table>\n",
       "</div>"
      ],
      "text/plain": [
       "   Xcoordinate  Ycoordinate  Evalues\n",
       "0         10.0         41.2     1.03\n",
       "1         11.6         41.2     0.14\n",
       "2         11.6         30.0     1.03\n",
       "3         13.2         30.0     0.14\n",
       "4         13.2         41.2     1.03"
      ]
     },
     "execution_count": 500,
     "metadata": {},
     "output_type": "execute_result"
    }
   ],
   "source": [
    "layer1_copy = layer1.copy(deep = False)\n",
    "\n",
    "layer1_copy.head()"
   ]
  },
  {
   "cell_type": "code",
   "execution_count": 501,
   "id": "f99b9e57-160e-49e1-8973-098f4e7e97ce",
   "metadata": {},
   "outputs": [],
   "source": [
    "## list of dataframes\n",
    "list_of_dfs = [layer1, layer2, layer1_copy]\n",
    "\n",
    "## dictionary of dataframes \n",
    "dict_of_dfs = {\n",
    "    \n",
    "    \"copy_1\": layer1_copy,\n",
    "    \"orginal_layer\": layer1, \n",
    "    \"original_layer_2\": layer2,\n",
    "}\n",
    "\n"
   ]
  },
  {
   "cell_type": "code",
   "execution_count": 466,
   "id": "2e940491-fd59-481d-8f80-110279e39b09",
   "metadata": {},
   "outputs": [
    {
     "data": {
      "text/plain": [
       "dict_keys(['copy_1', 'orginal_layer', 'original_layer_2'])"
      ]
     },
     "execution_count": 466,
     "metadata": {},
     "output_type": "execute_result"
    }
   ],
   "source": [
    "dict_of_dfs.keys()"
   ]
  },
  {
   "cell_type": "code",
   "execution_count": 467,
   "id": "f563dd54-f1bd-4103-be08-ae7cdba60b22",
   "metadata": {},
   "outputs": [
    {
     "name": "stdout",
     "output_type": "stream",
     "text": [
      "copy_1\n",
      "   Xcoordinate  Ycoordinate  Evalues\n",
      "0         10.0         41.2     1.03\n",
      "1         11.6         41.2     0.14\n",
      "orginal_layer\n",
      "   Xcoordinate  Ycoordinate  Evalues\n",
      "0         10.0         41.2     1.03\n",
      "1         11.6         41.2     0.14\n",
      "original_layer_2\n",
      "   Xcoordinate2  Ycoordinate2  Evalues\n",
      "0          10.0          30.0     1.03\n",
      "1          10.0          31.6     0.14\n"
     ]
    }
   ],
   "source": [
    "for k,v in dict_of_dfs.items():\n",
    "    ## print the key and the print head \n",
    "    print(k)\n",
    "    print(v.head(2))"
   ]
  },
  {
   "cell_type": "code",
   "execution_count": 468,
   "id": "e301e549-dad5-4b79-8c6a-8c82aefc855b",
   "metadata": {},
   "outputs": [
    {
     "data": {
      "text/html": [
       "<div>\n",
       "<style scoped>\n",
       "    .dataframe tbody tr th:only-of-type {\n",
       "        vertical-align: middle;\n",
       "    }\n",
       "\n",
       "    .dataframe tbody tr th {\n",
       "        vertical-align: top;\n",
       "    }\n",
       "\n",
       "    .dataframe thead th {\n",
       "        text-align: right;\n",
       "    }\n",
       "</style>\n",
       "<table border=\"1\" class=\"dataframe\">\n",
       "  <thead>\n",
       "    <tr style=\"text-align: right;\">\n",
       "      <th></th>\n",
       "      <th>Xcoordinate</th>\n",
       "      <th>Ycoordinate</th>\n",
       "      <th>Evalues</th>\n",
       "    </tr>\n",
       "  </thead>\n",
       "  <tbody>\n",
       "    <tr>\n",
       "      <th>0</th>\n",
       "      <td>10.0</td>\n",
       "      <td>41.2</td>\n",
       "      <td>1.03</td>\n",
       "    </tr>\n",
       "    <tr>\n",
       "      <th>1</th>\n",
       "      <td>11.6</td>\n",
       "      <td>41.2</td>\n",
       "      <td>0.14</td>\n",
       "    </tr>\n",
       "    <tr>\n",
       "      <th>2</th>\n",
       "      <td>11.6</td>\n",
       "      <td>30.0</td>\n",
       "      <td>1.03</td>\n",
       "    </tr>\n",
       "    <tr>\n",
       "      <th>3</th>\n",
       "      <td>13.2</td>\n",
       "      <td>30.0</td>\n",
       "      <td>0.14</td>\n",
       "    </tr>\n",
       "    <tr>\n",
       "      <th>4</th>\n",
       "      <td>13.2</td>\n",
       "      <td>41.2</td>\n",
       "      <td>1.03</td>\n",
       "    </tr>\n",
       "    <tr>\n",
       "      <th>5</th>\n",
       "      <td>14.8</td>\n",
       "      <td>41.2</td>\n",
       "      <td>0.14</td>\n",
       "    </tr>\n",
       "    <tr>\n",
       "      <th>6</th>\n",
       "      <td>14.8</td>\n",
       "      <td>30.0</td>\n",
       "      <td>1.03</td>\n",
       "    </tr>\n",
       "    <tr>\n",
       "      <th>7</th>\n",
       "      <td>16.4</td>\n",
       "      <td>30.0</td>\n",
       "      <td>0.14</td>\n",
       "    </tr>\n",
       "    <tr>\n",
       "      <th>8</th>\n",
       "      <td>16.4</td>\n",
       "      <td>41.2</td>\n",
       "      <td>1.03</td>\n",
       "    </tr>\n",
       "    <tr>\n",
       "      <th>9</th>\n",
       "      <td>18.0</td>\n",
       "      <td>41.2</td>\n",
       "      <td>0.14</td>\n",
       "    </tr>\n",
       "    <tr>\n",
       "      <th>10</th>\n",
       "      <td>18.0</td>\n",
       "      <td>30.0</td>\n",
       "      <td>1.03</td>\n",
       "    </tr>\n",
       "    <tr>\n",
       "      <th>11</th>\n",
       "      <td>19.6</td>\n",
       "      <td>30.0</td>\n",
       "      <td>0.14</td>\n",
       "    </tr>\n",
       "    <tr>\n",
       "      <th>12</th>\n",
       "      <td>19.6</td>\n",
       "      <td>41.2</td>\n",
       "      <td>1.03</td>\n",
       "    </tr>\n",
       "    <tr>\n",
       "      <th>13</th>\n",
       "      <td>21.2</td>\n",
       "      <td>41.2</td>\n",
       "      <td>0.14</td>\n",
       "    </tr>\n",
       "    <tr>\n",
       "      <th>14</th>\n",
       "      <td>21.2</td>\n",
       "      <td>30.0</td>\n",
       "      <td>1.03</td>\n",
       "    </tr>\n",
       "  </tbody>\n",
       "</table>\n",
       "</div>"
      ],
      "text/plain": [
       "    Xcoordinate  Ycoordinate  Evalues\n",
       "0          10.0         41.2     1.03\n",
       "1          11.6         41.2     0.14\n",
       "2          11.6         30.0     1.03\n",
       "3          13.2         30.0     0.14\n",
       "4          13.2         41.2     1.03\n",
       "5          14.8         41.2     0.14\n",
       "6          14.8         30.0     1.03\n",
       "7          16.4         30.0     0.14\n",
       "8          16.4         41.2     1.03\n",
       "9          18.0         41.2     0.14\n",
       "10         18.0         30.0     1.03\n",
       "11         19.6         30.0     0.14\n",
       "12         19.6         41.2     1.03\n",
       "13         21.2         41.2     0.14\n",
       "14         21.2         30.0     1.03"
      ]
     },
     "execution_count": 468,
     "metadata": {},
     "output_type": "execute_result"
    }
   ],
   "source": [
    "dict_of_dfs['copy_1']"
   ]
  },
  {
   "cell_type": "code",
   "execution_count": 469,
   "id": "3ed7a313-9cc0-4a99-ada0-bf84094221bb",
   "metadata": {},
   "outputs": [
    {
     "ename": "IndentationError",
     "evalue": "unexpected indent (<ipython-input-469-ca69350bd323>, line 7)",
     "output_type": "error",
     "traceback": [
      "\u001b[1;36m  File \u001b[1;32m\"<ipython-input-469-ca69350bd323>\"\u001b[1;36m, line \u001b[1;32m7\u001b[0m\n\u001b[1;33m    = []\u001b[0m\n\u001b[1;37m    ^\u001b[0m\n\u001b[1;31mIndentationError\u001b[0m\u001b[1;31m:\u001b[0m unexpected indent\n"
     ]
    }
   ],
   "source": [
    "copy = 1\n",
    "for i in copy_num:\n",
    "    \"copy\" + str(copy)\n",
    "    \n",
    "    print(name)\n",
    "    copy+=1\n",
    "     = []"
   ]
  },
  {
   "cell_type": "code",
   "execution_count": 470,
   "id": "e997bba0-e413-473d-baac-53fa3ff14130",
   "metadata": {},
   "outputs": [
    {
     "ename": "IndexError",
     "evalue": "Replacement index 0 out of range for positional args tuple",
     "output_type": "error",
     "traceback": [
      "\u001b[1;31m---------------------------------------------------------------------------\u001b[0m",
      "\u001b[1;31mIndexError\u001b[0m                                Traceback (most recent call last)",
      "\u001b[1;32m<ipython-input-470-85b8907131da>\u001b[0m in \u001b[0;36m<module>\u001b[1;34m\u001b[0m\n\u001b[1;32m----> 1\u001b[1;33m \u001b[1;34m\"string{0}\"\u001b[0m\u001b[1;33m.\u001b[0m\u001b[0mformat\u001b[0m\u001b[1;33m(\u001b[0m\u001b[1;33m)\u001b[0m\u001b[1;33m\u001b[0m\u001b[1;33m\u001b[0m\u001b[0m\n\u001b[0m",
      "\u001b[1;31mIndexError\u001b[0m: Replacement index 0 out of range for positional args tuple"
     ]
    }
   ],
   "source": [
    "\"string{0}\".format()  "
   ]
  },
  {
   "cell_type": "code",
   "execution_count": 431,
   "id": "94fc24a4-766d-4c14-87e6-c5295a46571a",
   "metadata": {},
   "outputs": [],
   "source": [
    "copy = 1\n",
    "d = []\n",
    "for x in range(1, 5):\n",
    "    layer2 = copy\n",
    "    "
   ]
  },
  {
   "cell_type": "code",
   "execution_count": null,
   "id": "63fd8846-274f-4b67-aa70-b22bb0f3f3d9",
   "metadata": {},
   "outputs": [],
   "source": []
  },
  {
   "cell_type": "code",
   "execution_count": null,
   "id": "5fa3f5dc-4aed-4213-b407-0986ee2e481c",
   "metadata": {},
   "outputs": [],
   "source": []
  },
  {
   "cell_type": "code",
   "execution_count": null,
   "id": "95b65997-0856-4389-a7ae-f840d1d94a66",
   "metadata": {},
   "outputs": [],
   "source": []
  },
  {
   "cell_type": "markdown",
   "id": "286cef83-ce09-4abe-8115-c485b79a967b",
   "metadata": {},
   "source": [
    "###imports"
   ]
  }
 ],
 "metadata": {
  "kernelspec": {
   "display_name": "Python 3",
   "language": "python",
   "name": "python3"
  },
  "language_info": {
   "codemirror_mode": {
    "name": "ipython",
    "version": 3
   },
   "file_extension": ".py",
   "mimetype": "text/x-python",
   "name": "python",
   "nbconvert_exporter": "python",
   "pygments_lexer": "ipython3",
   "version": "3.8.8"
  }
 },
 "nbformat": 4,
 "nbformat_minor": 5
}
